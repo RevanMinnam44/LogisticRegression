{
 "cells": [
  {
   "cell_type": "code",
   "execution_count": null,
   "id": "76a1b3d2",
   "metadata": {},
   "outputs": [],
   "source": [
    "import nltk\n",
    "from nltk.stem import WordNetLemmatizer\n",
    "from nltk.tokenize import word_tokenize\n",
    "\n",
    "lemmatizer = WordNetLemmatizer()\n",
    "\n",
    "##Tags the words in the tweets\n",
    "def nltk_tag_to_wordnet_tag(nltk_tag):\n",
    "    if nltk_tag.startswith('J'):\n",
    "        return(wordnet.ADJ)\n",
    "    elif nltk_tag.startswith('V'):\n",
    "        return(wordnet.VERB)\n",
    "    elif nltk_tag.startswith('N'):\n",
    "        return(wordnet.NOUN)\n",
    "    elif nltk_tag.startswith('R'):\n",
    "        return(wordnet.ADV)\n",
    "    else:\n",
    "        return(None)\n",
    "\n",
    "##Lemmatizes the words in tweets and returns the cleaned and lemmatized tweet\n",
    "def lemmatize_tweet(tweet):\n",
    "    #tokenize the tweet and find the POS tag for each token\n",
    "    tweet = tweet_cleaner(tweet) #tweet_cleaner() will be the function you will write\n",
    "    nltk_tagged = nltk.pos_tag(nltk.word_tokenize(tweet))\n",
    "    #tuple of (token, wordnet_tag)\n",
    "    wordnet_tagged = map(lambda x: (x[0], nltk_tag_to_wordnet_tag(x[1])), nltk_tagged)\n",
    "    lemmatized_tweet = []\n",
    "    for word, tag in wordnet_tagged:\n",
    "        if tag is None:\n",
    "            #if there is no available tag, append the token as is\n",
    "            lemmatized_tweet.append(word)\n",
    "        else:\n",
    "            #else use the tag to lemmatize the token\n",
    "            lemmatized_tweet.append(lemmatizer.lemmatize(word, tag))\n",
    "    return(\" \".join(lemmatized_tweet))\n"
   ]
  }
 ],
 "metadata": {
  "kernelspec": {
   "display_name": "Python 3 (ipykernel)",
   "language": "python",
   "name": "python3"
  },
  "language_info": {
   "codemirror_mode": {
    "name": "ipython",
    "version": 3
   },
   "file_extension": ".py",
   "mimetype": "text/x-python",
   "name": "python",
   "nbconvert_exporter": "python",
   "pygments_lexer": "ipython3",
   "version": "3.9.12"
  }
 },
 "nbformat": 4,
 "nbformat_minor": 5
}
